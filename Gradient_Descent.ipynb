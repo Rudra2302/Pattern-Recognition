{
  "nbformat": 4,
  "nbformat_minor": 0,
  "metadata": {
    "colab": {
      "provenance": []
    },
    "kernelspec": {
      "name": "python3",
      "display_name": "Python 3"
    },
    "language_info": {
      "name": "python"
    }
  },
  "cells": [
    {
      "cell_type": "code",
      "execution_count": null,
      "metadata": {
        "id": "ly4_mszBmueh"
      },
      "outputs": [],
      "source": [
        "import numpy as np\n",
        "import matplotlib.pyplot as plt"
      ]
    },
    {
      "cell_type": "code",
      "source": [
        "import pandas as pd\n",
        "df = pd.read_csv('A2Q2Data_train.csv', header=None)"
      ],
      "metadata": {
        "id": "xlLf9CqNnhFj"
      },
      "execution_count": null,
      "outputs": []
    },
    {
      "cell_type": "code",
      "source": [
        "Data=np.array(df) # Load the data into a numpy array\n",
        "Y = Data[:, 100:]\n",
        "X = Data[:, :100]\n",
        "X = X.T"
      ],
      "metadata": {
        "id": "S9665wm1n2h_"
      },
      "execution_count": null,
      "outputs": []
    },
    {
      "cell_type": "code",
      "source": [
        "def mle(X, Y): # Analytical Solution\n",
        "  T = X @ X.T\n",
        "  T = np.linalg.inv(T)\n",
        "  T = (T @ X) @ Y\n",
        "  return T"
      ],
      "metadata": {
        "id": "ZZmUmP06oNWB"
      },
      "execution_count": null,
      "outputs": []
    },
    {
      "cell_type": "code",
      "source": [
        "w_ml = mle(X,Y)\n",
        "w_ml"
      ],
      "metadata": {
        "id": "LRqtizx5qXsO"
      },
      "execution_count": null,
      "outputs": []
    },
    {
      "cell_type": "code",
      "source": [
        "def grad(w, X, Y):\n",
        "  T = 2*((X @ X.T) @ w) - 2*(X @ Y) # Gradient of the objective function\n",
        "  return T"
      ],
      "metadata": {
        "id": "AMJy1dw_qcs2"
      },
      "execution_count": null,
      "outputs": []
    },
    {
      "cell_type": "code",
      "source": [
        "def gradient_descent(X, Y):\n",
        "\n",
        "  w=np.random.random((100,1)) # Initialize w with a random matrix\n",
        "  error = np.array([])        # Make an array to store error values\n",
        "  err_prev=0                  # Variable to maintain previous error value\n",
        "  err=0                       # Variable to calculate current error value\n",
        "  it=0                        # Variable to keep track of iterations\n",
        "\n",
        "  # Error here refers to the distance between w and analytical solution\n",
        "  # Set a Threshold of 1e-3 between error values as break condition\n",
        "  while np.abs(err_prev-err) > 1e-3 or it<2:\n",
        "    err_prev=err\n",
        "    step_size = (1e-6)                    # Constant Learning rate\n",
        "    w = w - step_size*grad(w,X,Y)         # Apply gradient descent\n",
        "    err = np.linalg.norm(w-w_ml)          # Calculate error\n",
        "    error = np.append(error,err)          # Sppend to the array\n",
        "    it = it+1                             # Update iterations\n",
        "\n",
        "  return w, error, it         # Return values of w, it and error"
      ],
      "metadata": {
        "id": "xBNe57i-szbd"
      },
      "execution_count": null,
      "outputs": []
    },
    {
      "cell_type": "code",
      "source": [
        "w_gd, error_gd, it_gd = gradient_descent(X,Y) # Call the GD function\n",
        "print(it_gd)                                  # Check no of iterations"
      ],
      "metadata": {
        "id": "p5qhoY5nuNkF",
        "colab": {
          "base_uri": "https://localhost:8080/"
        },
        "outputId": "2230bed3-cc1a-4719-807b-1c1941749185"
      },
      "execution_count": null,
      "outputs": [
        {
          "output_type": "stream",
          "name": "stdout",
          "text": [
            "1000\n"
          ]
        }
      ]
    },
    {
      "cell_type": "code",
      "source": [
        "plt.plot(error_gd)      # Plot the error against number of iterations\n",
        "\n",
        "plt.title('Gradient Descent Algorithm')\n",
        "plt.ylabel('||w-w_ml||')\n",
        "plt.xlabel('Iterations')\n",
        "plt.show()"
      ],
      "metadata": {
        "colab": {
          "base_uri": "https://localhost:8080/",
          "height": 472
        },
        "id": "xW5u2jysuQz8",
        "outputId": "878ae5e5-731a-4eb8-dce2-8c314fe08e95"
      },
      "execution_count": null,
      "outputs": [
        {
          "output_type": "display_data",
          "data": {
            "text/plain": [
              "<Figure size 640x480 with 1 Axes>"
            ],
            "image/png": "[encoded data removed]"
          },
          "metadata": {}
        }
      ]
    },
    {
      "cell_type": "code",
      "source": [
        "def stochastic_gradient_descent(X,Y,k):   # k here is the batch size\n",
        "\n",
        "  w=np.random.random((100,1))       # Randomly initialize w\n",
        "  error = np.array([])              # Declare an array to store error\n",
        "  err_prev=0                        # Variable to store previous error\n",
        "  err=0                             # Variable to store current error\n",
        "  it=0                              # Variable to store iterations\n",
        "\n",
        "  # Error here is the distance between w and analytical solution\n",
        "  # Set a Threshold of difference in error values less than 1e-3\n",
        "  while np.abs(err_prev-err) > 1e-3 or it<2:\n",
        "    err_prev=err\n",
        "    step_size = (1e-6)                        # Constant learning rate\n",
        "    ind = np.random.randint(0,10000,size=k)   # Take a batch of 100 data\n",
        "    X_sgd = X[:, ind]                         # Create the batch of X\n",
        "    Y_sgd = Y[ind, :]                         # Create the batch of Y\n",
        "    w = w - step_size*grad(w,X_sgd,Y_sgd)     # Perform gradient descent\n",
        "    err = np.linalg.norm(w-w_ml)              # Find error\n",
        "    error = np.append(error,err)              # Append to the error array\n",
        "    it = it+1                                 # Update iterations\n",
        "\n",
        "  return w, error, it               # Return w, it and the error array"
      ],
      "metadata": {
        "id": "gI2kRA28_4aL"
      },
      "execution_count": null,
      "outputs": []
    },
    {
      "cell_type": "code",
      "source": [
        "w_sgd, error_sgd, it_sgd = stochastic_gradient_descent(X,Y,100)\n",
        "print(it_sgd)              # Run the algorithm and print the results"
      ],
      "metadata": {
        "id": "O_Bnd_uhC0Y5",
        "colab": {
          "base_uri": "https://localhost:8080/"
        },
        "outputId": "e5f77b7d-57dc-45d0-a976-8051aa048dd7"
      },
      "execution_count": null,
      "outputs": [
        {
          "output_type": "stream",
          "name": "stdout",
          "text": [
            "360\n"
          ]
        }
      ]
    },
    {
      "cell_type": "code",
      "source": [
        "plt.plot(error_sgd)   # Plot the error values calculated\n",
        "\n",
        "plt.title('Stochastic Gradient Descent')\n",
        "plt.ylabel('||w-w_ml||')\n",
        "plt.xlabel('Iterations')\n",
        "plt.show()"
      ],
      "metadata": {
        "colab": {
          "base_uri": "https://localhost:8080/",
          "height": 472
        },
        "id": "snJsjD1UDPxo",
        "outputId": "e6f5c12b-4b3b-4351-e8cc-77134271eaf5"
      },
      "execution_count": null,
      "outputs": [
        {
          "output_type": "display_data",
          "data": {
            "text/plain": [
              "<Figure size 640x480 with 1 Axes>"
            ],
            "image/png": "[encoded data removed]"
          },
          "metadata": {}
        }
      ]
    },
    {
      "cell_type": "code",
      "source": [
        "def normalize_X(X):\n",
        "  mean = np.mean(X,axis=1)          # Caluculate mean of the data points\n",
        "  mean = mean.reshape(100,1)        # Reshape to a column vector\n",
        "  X = X - mean                      # Center the dataset\n",
        "\n",
        "  std = 0                           # Calculate Standard Deviation\n",
        "  for i in range(X.shape[1]):\n",
        "    std += np.linalg.norm(X[:,i])\n",
        "  std = std/X.shape[1]\n",
        "  std = np.sqrt(std)\n",
        "  X = X/std                         # Bring Devaition of the matrix to 1\n",
        "\n",
        "  return mean, std, X               # Values of mean and std will be\n",
        "                                    # required to normalize test data"
      ],
      "metadata": {
        "id": "J8KMlusfXSKy"
      },
      "execution_count": null,
      "outputs": []
    },
    {
      "cell_type": "code",
      "source": [
        "mean_x, std_x, X_norm = normalize_X(X)  # Normalize and store values of mean and std\n",
        "X_norm"
      ],
      "metadata": {
        "id": "VpnjQNwcb1GB"
      },
      "execution_count": null,
      "outputs": []
    },
    {
      "cell_type": "code",
      "source": [
        "def ridge_grad(w, X, Y, lamda):\n",
        "  # Calculate gradient of new objective function\n",
        "  # Lamda being the regularization factor\n",
        "  T = 2*((X @ X.T) @ w) - 2*(X @ Y) + 2*lamda*w\n",
        "  return T"
      ],
      "metadata": {
        "id": "0RL8OELSGh1s"
      },
      "execution_count": null,
      "outputs": []
    },
    {
      "cell_type": "code",
      "source": [
        "def ridge_regression(X, Y, lamda):\n",
        "\n",
        "  w=np.random.random((100,1))     # Randomize w\n",
        "  err_prev=1                      # Variable to store previous error\n",
        "  err=0                           # Variable to calculate current error\n",
        "  error = np.array([])\n",
        "\n",
        "  # Set a Threshold of 1e-3 between successive error values\n",
        "  # Error here is difference between current w and analytical solution\n",
        "  while np.abs(err_prev-err) > 1e-3:\n",
        "    err_prev=err\n",
        "    step_size = (1e-6)                         # Constant step size\n",
        "    w = w - step_size*ridge_grad(w,X,Y,lamda)  # Run gradient descent\n",
        "    err = np.linalg.norm(w-w_ml)               # Calculate error\n",
        "    error = np.append(error ,err)\n",
        "\n",
        "  return w, error                  # Return the optimal value found"
      ],
      "metadata": {
        "id": "jtgZhbBrrQ3y"
      },
      "execution_count": null,
      "outputs": []
    },
    {
      "cell_type": "code",
      "source": [
        "def cross_validation(X, Y, lamda):\n",
        "\n",
        "  # Split the datset into training and cross validation set\n",
        "  # Put 80% of the data into the training set\n",
        "  # Rest 20% go into the cross validation set\n",
        "  X_train = X[:, :8000]\n",
        "  X_cv = X[:, 8000:]\n",
        "  Y_train = Y[:8000, :]\n",
        "  Y_cv = Y[8000:, :]\n",
        "  error = np.array([])\n",
        "\n",
        "  for i in range(lamda.shape[0]):\n",
        "    w, et = ridge_regression(X_train,Y_train,lamda[i])\n",
        "    w_array = np.array(w)                           # Convert to np array\n",
        "    e = X_cv.T @ w_array - Y_cv                     # Find error on CV set\n",
        "    er = np.linalg.norm(e)                          # Find the norm\n",
        "    error = np.append(error,er)                     # Append to array\n",
        "\n",
        "  return error"
      ],
      "metadata": {
        "id": "d4gBxx9BsuqI"
      },
      "execution_count": null,
      "outputs": []
    },
    {
      "cell_type": "code",
      "source": [
        "lamda = np.array([1,5,10,50,100,250,500,750,1000,2500,5000,7500,10000,50000])\n",
        "error_ridge = cross_validation(X_norm,Y,lamda)"
      ],
      "metadata": {
        "id": "jRLZ0VUHt1QG"
      },
      "execution_count": null,
      "outputs": []
    },
    {
      "cell_type": "code",
      "source": [
        "plt.plot(lamda[:11], error_ridge[:11])\n",
        "\n",
        "plt.title('Cross Validation Error')\n",
        "plt.ylabel('Error')\n",
        "plt.xlabel('Regularization Parameter')\n",
        "plt.show()"
      ],
      "metadata": {
        "colab": {
          "base_uri": "https://localhost:8080/",
          "height": 472
        },
        "id": "0l1LjXVfr0O4",
        "outputId": "477ecc6e-38d9-4afa-a93e-86651390a9a6"
      },
      "execution_count": null,
      "outputs": [
        {
          "output_type": "display_data",
          "data": {
            "text/plain": [
              "<Figure size 640x480 with 1 Axes>"
            ],
            "image/png": "[encoded data removed]"
          },
          "metadata": {}
        }
      ]
    },
    {
      "cell_type": "code",
      "source": [
        "lamda_opt = lamda[np.argmin(error_ridge)]\n",
        "w_ridge, error_ridge_opt = ridge_regression(X_norm,Y,lamda_opt)"
      ],
      "metadata": {
        "id": "AvE-m_wmr-iG"
      },
      "execution_count": null,
      "outputs": []
    },
    {
      "cell_type": "code",
      "source": [
        "plt.plot(error_ridge_opt)\n",
        "\n",
        "plt.title('Optimal Lambda error plot')\n",
        "plt.xlabel('Iterations')\n",
        "plt.ylabel('Error')\n",
        "plt.show()"
      ],
      "metadata": {
        "colab": {
          "base_uri": "https://localhost:8080/",
          "height": 472
        },
        "id": "aaQYyyJRZ3Bq",
        "outputId": "a6fd7b69-81b4-4f95-85c8-e832356513b1"
      },
      "execution_count": null,
      "outputs": [
        {
          "output_type": "display_data",
          "data": {
            "text/plain": [
              "<Figure size 640x480 with 1 Axes>"
            ],
            "image/png": "[encoded data removed]"
          },
          "metadata": {}
        }
      ]
    },
    {
      "cell_type": "code",
      "source": [
        "df_test = pd.read_csv('A2Q2Data_test.csv', header=None)\n",
        "df_test"
      ],
      "metadata": {
        "colab": {
          "base_uri": "https://localhost:8080/",
          "height": 443
        },
        "id": "ehHiiMAm6xrX",
        "outputId": "5b6072fe-0db2-4770-b34d-0ff2d3c3bcc0"
      },
      "execution_count": null,
      "outputs": [
        {
          "output_type": "execute_result",
          "data": {
            "text/plain": [
              "         0         1        2         3         4         5        6    \\\n",
              "0    0.21302  0.446210  0.51432  0.219750  0.495440  0.463670  0.26007   \n",
              "1    0.32563  0.703990  0.31970  0.045240  0.869680  0.131360  0.47664   \n",
              "2    0.49539  0.623570  0.58121  0.879160  0.930960  0.203040  0.35752   \n",
              "3    0.88875  0.013187  0.87982  0.858160  0.793920  0.792390  0.76522   \n",
              "4    0.15178  0.540760  0.26896  0.006752  0.101020  0.342080  0.86855   \n",
              "..       ...       ...      ...       ...       ...       ...      ...   \n",
              "495  0.10578  0.870530  0.66376  0.570310  0.691110  0.065131  0.25840   \n",
              "496  0.36756  0.673490  0.54089  0.932350  0.037031  0.806840  0.50789   \n",
              "497  0.24582  0.320620  0.79933  0.743320  0.314150  0.713150  0.90045   \n",
              "498  0.31768  0.937750  0.91269  0.840630  0.301710  0.600530  0.59427   \n",
              "499  0.46955  0.337400  0.58504  0.460880  0.389140  0.965600  0.82079   \n",
              "\n",
              "         7         8        9    ...      91        92       93        94   \\\n",
              "0    0.28137  0.983820  0.00777  ...  0.92910  0.286690  0.45841  0.788740   \n",
              "1    0.26632  0.334520  0.81200  ...  0.51868  0.255460  0.29498  0.008869   \n",
              "2    0.31232  0.066225  0.46389  ...  0.85782  0.505300  0.32361  0.693090   \n",
              "3    0.85145  0.233610  0.57924  ...  0.25535  0.383410  0.55130  0.727730   \n",
              "4    0.32698  0.285460  0.80503  ...  0.54955  0.129320  0.94848  0.326100   \n",
              "..       ...       ...      ...  ...      ...       ...      ...       ...   \n",
              "495  0.56343  0.958840  0.75578  ...  0.73314  0.947650  0.41785  0.450240   \n",
              "496  0.27116  0.879440  0.57790  ...  0.75535  0.067279  0.97832  0.759940   \n",
              "497  0.67816  0.392680  0.96917  ...  0.59358  0.711090  0.45839  0.434920   \n",
              "498  0.10969  0.438170  0.39921  ...  0.58933  0.892750  0.70348  0.715340   \n",
              "499  0.64068  0.108330  0.94195  ...  0.10324  0.503950  0.10349  0.023850   \n",
              "\n",
              "          95       96        97       98       99      100  \n",
              "0    0.041794  0.58736  0.904910  0.91718  0.68321  2.0121  \n",
              "1    0.169970  0.92325  0.421340  0.90906  0.61539  1.8164  \n",
              "2    0.690430  0.01604  0.467410  0.67303  0.60459  1.6435  \n",
              "3    0.676890  0.84605  0.611160  0.58514  0.41724  2.7451  \n",
              "4    0.268010  0.27125  0.535350  0.91872  0.16801  1.8932  \n",
              "..        ...      ...       ...      ...      ...     ...  \n",
              "495  0.226930  0.12547  0.506790  0.60808  0.61612  2.2680  \n",
              "496  0.991350  0.80861  0.716250  0.43949  0.79699  2.8274  \n",
              "497  0.464740  0.69551  0.447860  0.78741  0.11548  2.8058  \n",
              "498  0.198450  0.31288  0.099705  0.82134  0.71902  2.2495  \n",
              "499  0.165970  0.78500  0.200490  0.68189  0.49566  2.6856  \n",
              "\n",
              "[500 rows x 101 columns]"
            ],
            "text/html": [
              "\n",
              "  <div id=\"df-e0f183cb-bfe6-4f5b-a43a-0698b6c3046e\" class=\"colab-df-container\">\n",
              "    <div>\n",
              "<style scoped>\n",
              "    .dataframe tbody tr th:only-of-type {\n",
              "        vertical-align: middle;\n",
              "    }\n",
              "\n",
              "    .dataframe tbody tr th {\n",
              "        vertical-align: top;\n",
              "    }\n",
              "\n",
              "    .dataframe thead th {\n",
              "        text-align: right;\n",
              "    }\n",
              "</style>\n",
              "<table border=\"1\" class=\"dataframe\">\n",
              "  <thead>\n",
              "    <tr style=\"text-align: right;\">\n",
              "      <th></th>\n",
              "      <th>0</th>\n",
              "      <th>1</th>\n",
              "      <th>2</th>\n",
              "      <th>3</th>\n",
              "      <th>4</th>\n",
              "      <th>5</th>\n",
              "      <th>6</th>\n",
              "      <th>7</th>\n",
              "      <th>8</th>\n",
              "      <th>9</th>\n",
              "      <th>...</th>\n",
              "      <th>91</th>\n",
              "      <th>92</th>\n",
              "      <th>93</th>\n",
              "      <th>94</th>\n",
              "      <th>95</th>\n",
              "      <th>96</th>\n",
              "      <th>97</th>\n",
              "      <th>98</th>\n",
              "      <th>99</th>\n",
              "      <th>100</th>\n",
              "    </tr>\n",
              "  </thead>\n",
              "  <tbody>\n",
              "    <tr>\n",
              "      <th>0</th>\n",
              "      <td>0.21302</td>\n",
              "      <td>0.446210</td>\n",
              "      <td>0.51432</td>\n",
              "      <td>0.219750</td>\n",
              "      <td>0.495440</td>\n",
              "      <td>0.463670</td>\n",
              "      <td>0.26007</td>\n",
              "      <td>0.28137</td>\n",
              "      <td>0.983820</td>\n",
              "      <td>0.00777</td>\n",
              "      <td>...</td>\n",
              "      <td>0.92910</td>\n",
              "      <td>0.286690</td>\n",
              "      <td>0.45841</td>\n",
              "      <td>0.788740</td>\n",
              "      <td>0.041794</td>\n",
              "      <td>0.58736</td>\n",
              "      <td>0.904910</td>\n",
              "      <td>0.91718</td>\n",
              "      <td>0.68321</td>\n",
              "      <td>2.0121</td>\n",
              "    </tr>\n",
              "    <tr>\n",
              "      <th>1</th>\n",
              "      <td>0.32563</td>\n",
              "      <td>0.703990</td>\n",
              "      <td>0.31970</td>\n",
              "      <td>0.045240</td>\n",
              "      <td>0.869680</td>\n",
              "      <td>0.131360</td>\n",
              "      <td>0.47664</td>\n",
              "      <td>0.26632</td>\n",
              "      <td>0.334520</td>\n",
              "      <td>0.81200</td>\n",
              "      <td>...</td>\n",
              "      <td>0.51868</td>\n",
              "      <td>0.255460</td>\n",
              "      <td>0.29498</td>\n",
              "      <td>0.008869</td>\n",
              "      <td>0.169970</td>\n",
              "      <td>0.92325</td>\n",
              "      <td>0.421340</td>\n",
              "      <td>0.90906</td>\n",
              "      <td>0.61539</td>\n",
              "      <td>1.8164</td>\n",
              "    </tr>\n",
              "    <tr>\n",
              "      <th>2</th>\n",
              "      <td>0.49539</td>\n",
              "      <td>0.623570</td>\n",
              "      <td>0.58121</td>\n",
              "      <td>0.879160</td>\n",
              "      <td>0.930960</td>\n",
              "      <td>0.203040</td>\n",
              "      <td>0.35752</td>\n",
              "      <td>0.31232</td>\n",
              "      <td>0.066225</td>\n",
              "      <td>0.46389</td>\n",
              "      <td>...</td>\n",
              "      <td>0.85782</td>\n",
              "      <td>0.505300</td>\n",
              "      <td>0.32361</td>\n",
              "      <td>0.693090</td>\n",
              "      <td>0.690430</td>\n",
              "      <td>0.01604</td>\n",
              "      <td>0.467410</td>\n",
              "      <td>0.67303</td>\n",
              "      <td>0.60459</td>\n",
              "      <td>1.6435</td>\n",
              "    </tr>\n",
              "    <tr>\n",
              "      <th>3</th>\n",
              "      <td>0.88875</td>\n",
              "      <td>0.013187</td>\n",
              "      <td>0.87982</td>\n",
              "      <td>0.858160</td>\n",
              "      <td>0.793920</td>\n",
              "      <td>0.792390</td>\n",
              "      <td>0.76522</td>\n",
              "      <td>0.85145</td>\n",
              "      <td>0.233610</td>\n",
              "      <td>0.57924</td>\n",
              "      <td>...</td>\n",
              "      <td>0.25535</td>\n",
              "      <td>0.383410</td>\n",
              "      <td>0.55130</td>\n",
              "      <td>0.727730</td>\n",
              "      <td>0.676890</td>\n",
              "      <td>0.84605</td>\n",
              "      <td>0.611160</td>\n",
              "      <td>0.58514</td>\n",
              "      <td>0.41724</td>\n",
              "      <td>2.7451</td>\n",
              "    </tr>\n",
              "    <tr>\n",
              "      <th>4</th>\n",
              "      <td>0.15178</td>\n",
              "      <td>0.540760</td>\n",
              "      <td>0.26896</td>\n",
              "      <td>0.006752</td>\n",
              "      <td>0.101020</td>\n",
              "      <td>0.342080</td>\n",
              "      <td>0.86855</td>\n",
              "      <td>0.32698</td>\n",
              "      <td>0.285460</td>\n",
              "      <td>0.80503</td>\n",
              "      <td>...</td>\n",
              "      <td>0.54955</td>\n",
              "      <td>0.129320</td>\n",
              "      <td>0.94848</td>\n",
              "      <td>0.326100</td>\n",
              "      <td>0.268010</td>\n",
              "      <td>0.27125</td>\n",
              "      <td>0.535350</td>\n",
              "      <td>0.91872</td>\n",
              "      <td>0.16801</td>\n",
              "      <td>1.8932</td>\n",
              "    </tr>\n",
              "    <tr>\n",
              "      <th>...</th>\n",
              "      <td>...</td>\n",
              "      <td>...</td>\n",
              "      <td>...</td>\n",
              "      <td>...</td>\n",
              "      <td>...</td>\n",
              "      <td>...</td>\n",
              "      <td>...</td>\n",
              "      <td>...</td>\n",
              "      <td>...</td>\n",
              "      <td>...</td>\n",
              "      <td>...</td>\n",
              "      <td>...</td>\n",
              "      <td>...</td>\n",
              "      <td>...</td>\n",
              "      <td>...</td>\n",
              "      <td>...</td>\n",
              "      <td>...</td>\n",
              "      <td>...</td>\n",
              "      <td>...</td>\n",
              "      <td>...</td>\n",
              "      <td>...</td>\n",
              "    </tr>\n",
              "    <tr>\n",
              "      <th>495</th>\n",
              "      <td>0.10578</td>\n",
              "      <td>0.870530</td>\n",
              "      <td>0.66376</td>\n",
              "      <td>0.570310</td>\n",
              "      <td>0.691110</td>\n",
              "      <td>0.065131</td>\n",
              "      <td>0.25840</td>\n",
              "      <td>0.56343</td>\n",
              "      <td>0.958840</td>\n",
              "      <td>0.75578</td>\n",
              "      <td>...</td>\n",
              "      <td>0.73314</td>\n",
              "      <td>0.947650</td>\n",
              "      <td>0.41785</td>\n",
              "      <td>0.450240</td>\n",
              "      <td>0.226930</td>\n",
              "      <td>0.12547</td>\n",
              "      <td>0.506790</td>\n",
              "      <td>0.60808</td>\n",
              "      <td>0.61612</td>\n",
              "      <td>2.2680</td>\n",
              "    </tr>\n",
              "    <tr>\n",
              "      <th>496</th>\n",
              "      <td>0.36756</td>\n",
              "      <td>0.673490</td>\n",
              "      <td>0.54089</td>\n",
              "      <td>0.932350</td>\n",
              "      <td>0.037031</td>\n",
              "      <td>0.806840</td>\n",
              "      <td>0.50789</td>\n",
              "      <td>0.27116</td>\n",
              "      <td>0.879440</td>\n",
              "      <td>0.57790</td>\n",
              "      <td>...</td>\n",
              "      <td>0.75535</td>\n",
              "      <td>0.067279</td>\n",
              "      <td>0.97832</td>\n",
              "      <td>0.759940</td>\n",
              "      <td>0.991350</td>\n",
              "      <td>0.80861</td>\n",
              "      <td>0.716250</td>\n",
              "      <td>0.43949</td>\n",
              "      <td>0.79699</td>\n",
              "      <td>2.8274</td>\n",
              "    </tr>\n",
              "    <tr>\n",
              "      <th>497</th>\n",
              "      <td>0.24582</td>\n",
              "      <td>0.320620</td>\n",
              "      <td>0.79933</td>\n",
              "      <td>0.743320</td>\n",
              "      <td>0.314150</td>\n",
              "      <td>0.713150</td>\n",
              "      <td>0.90045</td>\n",
              "      <td>0.67816</td>\n",
              "      <td>0.392680</td>\n",
              "      <td>0.96917</td>\n",
              "      <td>...</td>\n",
              "      <td>0.59358</td>\n",
              "      <td>0.711090</td>\n",
              "      <td>0.45839</td>\n",
              "      <td>0.434920</td>\n",
              "      <td>0.464740</td>\n",
              "      <td>0.69551</td>\n",
              "      <td>0.447860</td>\n",
              "      <td>0.78741</td>\n",
              "      <td>0.11548</td>\n",
              "      <td>2.8058</td>\n",
              "    </tr>\n",
              "    <tr>\n",
              "      <th>498</th>\n",
              "      <td>0.31768</td>\n",
              "      <td>0.937750</td>\n",
              "      <td>0.91269</td>\n",
              "      <td>0.840630</td>\n",
              "      <td>0.301710</td>\n",
              "      <td>0.600530</td>\n",
              "      <td>0.59427</td>\n",
              "      <td>0.10969</td>\n",
              "      <td>0.438170</td>\n",
              "      <td>0.39921</td>\n",
              "      <td>...</td>\n",
              "      <td>0.58933</td>\n",
              "      <td>0.892750</td>\n",
              "      <td>0.70348</td>\n",
              "      <td>0.715340</td>\n",
              "      <td>0.198450</td>\n",
              "      <td>0.31288</td>\n",
              "      <td>0.099705</td>\n",
              "      <td>0.82134</td>\n",
              "      <td>0.71902</td>\n",
              "      <td>2.2495</td>\n",
              "    </tr>\n",
              "    <tr>\n",
              "      <th>499</th>\n",
              "      <td>0.46955</td>\n",
              "      <td>0.337400</td>\n",
              "      <td>0.58504</td>\n",
              "      <td>0.460880</td>\n",
              "      <td>0.389140</td>\n",
              "      <td>0.965600</td>\n",
              "      <td>0.82079</td>\n",
              "      <td>0.64068</td>\n",
              "      <td>0.108330</td>\n",
              "      <td>0.94195</td>\n",
              "      <td>...</td>\n",
              "      <td>0.10324</td>\n",
              "      <td>0.503950</td>\n",
              "      <td>0.10349</td>\n",
              "      <td>0.023850</td>\n",
              "      <td>0.165970</td>\n",
              "      <td>0.78500</td>\n",
              "      <td>0.200490</td>\n",
              "      <td>0.68189</td>\n",
              "      <td>0.49566</td>\n",
              "      <td>2.6856</td>\n",
              "    </tr>\n",
              "  </tbody>\n",
              "</table>\n",
              "<p>500 rows × 101 columns</p>\n",
              "</div>\n",
              "    <div class=\"colab-df-buttons\">\n",
              "\n",
              "  <div class=\"colab-df-container\">\n",
              "    <button class=\"colab-df-convert\" onclick=\"convertToInteractive('df-e0f183cb-bfe6-4f5b-a43a-0698b6c3046e')\"\n",
              "            title=\"Convert this dataframe to an interactive table.\"\n",
              "            style=\"display:none;\">\n",
              "\n",
              "  <svg xmlns=\"http://www.w3.org/2000/svg\" height=\"24px\" viewBox=\"0 -960 960 960\">\n",
              "    <path d=\"M120-120v-720h720v720H120Zm60-500h600v-160H180v160Zm220 220h160v-160H400v160Zm0 220h160v-160H400v160ZM180-400h160v-160H180v160Zm440 0h160v-160H620v160ZM180-180h160v-160H180v160Zm440 0h160v-160H620v160Z\"/>\n",
              "  </svg>\n",
              "    </button>\n",
              "\n",
              "  <style>\n",
              "    .colab-df-container {\n",
              "      display:flex;\n",
              "      gap: 12px;\n",
              "    }\n",
              "\n",
              "    .colab-df-convert {\n",
              "      background-color: #E8F0FE;\n",
              "      border: none;\n",
              "      border-radius: 50%;\n",
              "      cursor: pointer;\n",
              "      display: none;\n",
              "      fill: #1967D2;\n",
              "      height: 32px;\n",
              "      padding: 0 0 0 0;\n",
              "      width: 32px;\n",
              "    }\n",
              "\n",
              "    .colab-df-convert:hover {\n",
              "      background-color: #E2EBFA;\n",
              "      box-shadow: 0px 1px 2px rgba(60, 64, 67, 0.3), 0px 1px 3px 1px rgba(60, 64, 67, 0.15);\n",
              "      fill: #174EA6;\n",
              "    }\n",
              "\n",
              "    .colab-df-buttons div {\n",
              "      margin-bottom: 4px;\n",
              "    }\n",
              "\n",
              "    [theme=dark] .colab-df-convert {\n",
              "      background-color: #3B4455;\n",
              "      fill: #D2E3FC;\n",
              "    }\n",
              "\n",
              "    [theme=dark] .colab-df-convert:hover {\n",
              "      background-color: #434B5C;\n",
              "      box-shadow: 0px 1px 3px 1px rgba(0, 0, 0, 0.15);\n",
              "      filter: drop-shadow(0px 1px 2px rgba(0, 0, 0, 0.3));\n",
              "      fill: #FFFFFF;\n",
              "    }\n",
              "  </style>\n",
              "\n",
              "    <script>\n",
              "      const buttonEl =\n",
              "        document.querySelector('#df-e0f183cb-bfe6-4f5b-a43a-0698b6c3046e button.colab-df-convert');\n",
              "      buttonEl.style.display =\n",
              "        google.colab.kernel.accessAllowed ? 'block' : 'none';\n",
              "\n",
              "      async function convertToInteractive(key) {\n",
              "        const element = document.querySelector('#df-e0f183cb-bfe6-4f5b-a43a-0698b6c3046e');\n",
              "        const dataTable =\n",
              "          await google.colab.kernel.invokeFunction('convertToInteractive',\n",
              "                                                    [key], {});\n",
              "        if (!dataTable) return;\n",
              "\n",
              "        const docLinkHtml = 'Like what you see? Visit the ' +\n",
              "          '<a target=\"_blank\" href=https://colab.research.google.com/notebooks/data_table.ipynb>data table notebook</a>'\n",
              "          + ' to learn more about interactive tables.';\n",
              "        element.innerHTML = '';\n",
              "        dataTable['output_type'] = 'display_data';\n",
              "        await google.colab.output.renderOutput(dataTable, element);\n",
              "        const docLink = document.createElement('div');\n",
              "        docLink.innerHTML = docLinkHtml;\n",
              "        element.appendChild(docLink);\n",
              "      }\n",
              "    </script>\n",
              "  </div>\n",
              "\n",
              "\n",
              "<div id=\"df-c4c2f6e3-fd30-4dfa-a314-438500c58c3a\">\n",
              "  <button class=\"colab-df-quickchart\" onclick=\"quickchart('df-c4c2f6e3-fd30-4dfa-a314-438500c58c3a')\"\n",
              "            title=\"Suggest charts\"\n",
              "            style=\"display:none;\">\n",
              "\n",
              "<svg xmlns=\"http://www.w3.org/2000/svg\" height=\"24px\"viewBox=\"0 0 24 24\"\n",
              "     width=\"24px\">\n",
              "    <g>\n",
              "        <path d=\"M19 3H5c-1.1 0-2 .9-2 2v14c0 1.1.9 2 2 2h14c1.1 0 2-.9 2-2V5c0-1.1-.9-2-2-2zM9 17H7v-7h2v7zm4 0h-2V7h2v10zm4 0h-2v-4h2v4z\"/>\n",
              "    </g>\n",
              "</svg>\n",
              "  </button>\n",
              "\n",
              "<style>\n",
              "  .colab-df-quickchart {\n",
              "      --bg-color: #E8F0FE;\n",
              "      --fill-color: #1967D2;\n",
              "      --hover-bg-color: #E2EBFA;\n",
              "      --hover-fill-color: #174EA6;\n",
              "      --disabled-fill-color: #AAA;\n",
              "      --disabled-bg-color: #DDD;\n",
              "  }\n",
              "\n",
              "  [theme=dark] .colab-df-quickchart {\n",
              "      --bg-color: #3B4455;\n",
              "      --fill-color: #D2E3FC;\n",
              "      --hover-bg-color: #434B5C;\n",
              "      --hover-fill-color: #FFFFFF;\n",
              "      --disabled-bg-color: #3B4455;\n",
              "      --disabled-fill-color: #666;\n",
              "  }\n",
              "\n",
              "  .colab-df-quickchart {\n",
              "    background-color: var(--bg-color);\n",
              "    border: none;\n",
              "    border-radius: 50%;\n",
              "    cursor: pointer;\n",
              "    display: none;\n",
              "    fill: var(--fill-color);\n",
              "    height: 32px;\n",
              "    padding: 0;\n",
              "    width: 32px;\n",
              "  }\n",
              "\n",
              "  .colab-df-quickchart:hover {\n",
              "    background-color: var(--hover-bg-color);\n",
              "    box-shadow: 0 1px 2px rgba(60, 64, 67, 0.3), 0 1px 3px 1px rgba(60, 64, 67, 0.15);\n",
              "    fill: var(--button-hover-fill-color);\n",
              "  }\n",
              "\n",
              "  .colab-df-quickchart-complete:disabled,\n",
              "  .colab-df-quickchart-complete:disabled:hover {\n",
              "    background-color: var(--disabled-bg-color);\n",
              "    fill: var(--disabled-fill-color);\n",
              "    box-shadow: none;\n",
              "  }\n",
              "\n",
              "  .colab-df-spinner {\n",
              "    border: 2px solid var(--fill-color);\n",
              "    border-color: transparent;\n",
              "    border-bottom-color: var(--fill-color);\n",
              "    animation:\n",
              "      spin 1s steps(1) infinite;\n",
              "  }\n",
              "\n",
              "  @keyframes spin {\n",
              "    0% {\n",
              "      border-color: transparent;\n",
              "      border-bottom-color: var(--fill-color);\n",
              "      border-left-color: var(--fill-color);\n",
              "    }\n",
              "    20% {\n",
              "      border-color: transparent;\n",
              "      border-left-color: var(--fill-color);\n",
              "      border-top-color: var(--fill-color);\n",
              "    }\n",
              "    30% {\n",
              "      border-color: transparent;\n",
              "      border-left-color: var(--fill-color);\n",
              "      border-top-color: var(--fill-color);\n",
              "      border-right-color: var(--fill-color);\n",
              "    }\n",
              "    40% {\n",
              "      border-color: transparent;\n",
              "      border-right-color: var(--fill-color);\n",
              "      border-top-color: var(--fill-color);\n",
              "    }\n",
              "    60% {\n",
              "      border-color: transparent;\n",
              "      border-right-color: var(--fill-color);\n",
              "    }\n",
              "    80% {\n",
              "      border-color: transparent;\n",
              "      border-right-color: var(--fill-color);\n",
              "      border-bottom-color: var(--fill-color);\n",
              "    }\n",
              "    90% {\n",
              "      border-color: transparent;\n",
              "      border-bottom-color: var(--fill-color);\n",
              "    }\n",
              "  }\n",
              "</style>\n",
              "\n",
              "  <script>\n",
              "    async function quickchart(key) {\n",
              "      const quickchartButtonEl =\n",
              "        document.querySelector('#' + key + ' button');\n",
              "      quickchartButtonEl.disabled = true;  // To prevent multiple clicks.\n",
              "      quickchartButtonEl.classList.add('colab-df-spinner');\n",
              "      try {\n",
              "        const charts = await google.colab.kernel.invokeFunction(\n",
              "            'suggestCharts', [key], {});\n",
              "      } catch (error) {\n",
              "        console.error('Error during call to suggestCharts:', error);\n",
              "      }\n",
              "      quickchartButtonEl.classList.remove('colab-df-spinner');\n",
              "      quickchartButtonEl.classList.add('colab-df-quickchart-complete');\n",
              "    }\n",
              "    (() => {\n",
              "      let quickchartButtonEl =\n",
              "        document.querySelector('#df-c4c2f6e3-fd30-4dfa-a314-438500c58c3a button');\n",
              "      quickchartButtonEl.style.display =\n",
              "        google.colab.kernel.accessAllowed ? 'block' : 'none';\n",
              "    })();\n",
              "  </script>\n",
              "</div>\n",
              "    </div>\n",
              "  </div>\n"
            ],
            "application/vnd.google.colaboratory.intrinsic+json": {
              "type": "dataframe",
              "variable_name": "df_test"
            }
          },
          "metadata": {},
          "execution_count": 29
        }
      ]
    },
    {
      "cell_type": "code",
      "source": [
        "Data_test=np.array(df_test)   # Load the Test data into an array\n",
        "Y_test = Data_test[:, 100:]   # Separate the labels from the set\n",
        "X_test = Data_test[:, :100]   # Separate the feature labels\n",
        "X_test = X_test.T"
      ],
      "metadata": {
        "id": "Bq7yNhKX61QI"
      },
      "execution_count": null,
      "outputs": []
    },
    {
      "cell_type": "code",
      "source": [
        "X_test = X_test - mean_x      # Normalize the test data\n",
        "X_test = X_test/std_x"
      ],
      "metadata": {
        "id": "oQ-DxS6PjpWT"
      },
      "execution_count": null,
      "outputs": []
    },
    {
      "cell_type": "code",
      "source": [
        "def mse(X, Y, w):             # function to find objective function\n",
        "  err = X.T @ w - Y\n",
        "  return np.linalg.norm(err)"
      ],
      "metadata": {
        "id": "wjG0KcOk5-of"
      },
      "execution_count": null,
      "outputs": []
    },
    {
      "cell_type": "code",
      "source": [
        "err_w_ml = mse(X_test, Y_test, w_ml)   # Objective function with w=w_ml\n",
        "err_w_r = mse(X_test, Y_test, w_ridge) # Objective function with w=w_ridge\n",
        "print(err_w_ml)                        # Print the 2 values\n",
        "print(err_w_r)"
      ],
      "metadata": {
        "colab": {
          "base_uri": "https://localhost:8080/"
        },
        "id": "rBB03zGJ6Wo4",
        "outputId": "b4dfe729-3318-4b2f-c81f-a80b40836366"
      },
      "execution_count": null,
      "outputs": [
        {
          "output_type": "stream",
          "name": "stdout",
          "text": [
            "51.018747109394674\n",
            "50.7702112368051\n"
          ]
        }
      ]
    },
    {
      "cell_type": "code",
      "source": [],
      "metadata": {
        "id": "zFzYUT34iOtN"
      },
      "execution_count": null,
      "outputs": []
    }
  ]
}