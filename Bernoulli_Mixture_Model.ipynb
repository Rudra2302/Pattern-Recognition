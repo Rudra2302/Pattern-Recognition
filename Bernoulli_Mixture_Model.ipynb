{
  "nbformat": 4,
  "nbformat_minor": 0,
  "metadata": {
    "colab": {
      "provenance": []
    },
    "kernelspec": {
      "name": "python3",
      "display_name": "Python 3"
    },
    "language_info": {
      "name": "python"
    }
  },
  "cells": [
    {
      "cell_type": "code",
      "execution_count": 22,
      "metadata": {
        "id": "iNwob6T4LOzi"
      },
      "outputs": [],
      "source": [
        "import numpy as np\n",
        "import matplotlib.pyplot as plt\n",
        "import math"
      ]
    },
    {
      "cell_type": "code",
      "source": [
        "import pandas as pd\n",
        "df = pd.read_csv('A2Q1.csv', header=None)"
      ],
      "metadata": {
        "id": "zB0DofpgX934"
      },
      "execution_count": 23,
      "outputs": []
    },
    {
      "cell_type": "code",
      "source": [
        "X = np.array(df) # Store the dataset in a numpy array"
      ],
      "metadata": {
        "id": "qvCNbjxXX_vP"
      },
      "execution_count": 24,
      "outputs": []
    },
    {
      "cell_type": "code",
      "source": [
        "def f(x, p):  # Calculate function value of Bernoulli Distribution\n",
        "  ans=1       # Initialize a variable\n",
        "  for j in range(x.shape[0]):  # Iterate over all features\n",
        "    if x[j]==1:\n",
        "      ans *= p[j]\n",
        "    else:\n",
        "      ans *= (1-p[j])\n",
        "  return ans"
      ],
      "metadata": {
        "id": "DDATnKo7YBaF"
      },
      "execution_count": 38,
      "outputs": []
    },
    {
      "cell_type": "code",
      "source": [
        "def expectation(X, p, pi):    # Expectation Step of the EM Algorithm\n",
        "  lamda = np.zeros((X.shape[0],4))  # Initialize a matrix\n",
        "  for i in range(X.shape[0]):\n",
        "    sum=0\n",
        "    for k in range(4):\n",
        "      g = f(X[i],p[k])*pi[k]  # Find the function value\n",
        "      sum = sum + g           # Sum them up in a separate value\n",
        "      lamda[i][k] = g\n",
        "    if sum != 0:\n",
        "      lamda[i] = lamda[i]/sum # Divide by the total sum\n",
        "  return lamda"
      ],
      "metadata": {
        "id": "sYlapLhhZww0"
      },
      "execution_count": 26,
      "outputs": []
    },
    {
      "cell_type": "code",
      "source": [
        "def maximization(X, lamda):   # Maximization Step of the EM ALgorithm\n",
        "  pi = np.zeros(4)            # Initialize\n",
        "  p = np.zeros((4,X.shape[1]))\n",
        "\n",
        "  for k in range(4):          # Calculate the new values of pi\n",
        "    for i in range(X.shape[0]):\n",
        "      pi[k] = pi[k] + lamda[i][k]\n",
        "\n",
        "  for k in range(4):          # Calculate the new values of p\n",
        "    for j in range(50):\n",
        "      for i in range(400):\n",
        "        p[k][j] = p[k][j] + lamda[i][k]*X[i][j]\n",
        "\n",
        "  for k in range(4):\n",
        "    if pi[k] != 0:\n",
        "      p[k] = p[k]/pi[k]\n",
        "\n",
        "  pi = pi/400\n",
        "\n",
        "  return pi, p"
      ],
      "metadata": {
        "id": "KEnbzBoua1Dk"
      },
      "execution_count": 27,
      "outputs": []
    },
    {
      "cell_type": "code",
      "source": [
        "def log_likelihood(X,pi,p):   # Log Likelihood calculator\n",
        "  sum = 0\n",
        "  for i in range(400):\n",
        "    temp = 0\n",
        "    for k in range(4):\n",
        "      temp += f(X[i],p[k])*pi[k]\n",
        "    if temp > 0:\n",
        "      sum += math.log(temp)\n",
        "  return sum"
      ],
      "metadata": {
        "id": "1HzXPBFIyk7O"
      },
      "execution_count": 56,
      "outputs": []
    },
    {
      "cell_type": "code",
      "source": [
        "def error(pi_new, p_new, pi, p): # Find error between successive iteration\n",
        "  err = np.linalg.norm(pi_new-pi)**2\n",
        "  for i in range(p.shape[0]):\n",
        "    for j in range(p.shape[1]):\n",
        "      err = err + (p[i][j] - p_new[i][j])**2\n",
        "  return err"
      ],
      "metadata": {
        "id": "pHLVHyKVzXGJ"
      },
      "execution_count": 52,
      "outputs": []
    },
    {
      "cell_type": "code",
      "source": [
        "def EM(X):  # EM Algorithm main code\n",
        "  pi = np.random.rand(4)  # Randomly initialize\n",
        "  pi = pi/np.sum(pi)\n",
        "  p = np.random.rand(4,X.shape[1])\n",
        "  lamda = np.zeros((X.shape[0],4))\n",
        "\n",
        "  it=0                  # Iterations variable\n",
        "  logl=np.array([])     # Log Likelihood to be maintained\n",
        "  err=1                 # Variable to calculate error\n",
        "\n",
        "  while it<50:\n",
        "    lamda_new = expectation(X,p,pi)       # Expectation step\n",
        "    pi_new, p_new = maximization(X,lamda_new)  # Maximization step\n",
        "    logl = np.append(logl,log_likelihood(X,pi_new,p_new))\n",
        "    err = error(pi_new,p_new,pi,p)\n",
        "    p=p_new                   # Update the new parameters\n",
        "    pi=pi_new\n",
        "    lamda = lamda_new\n",
        "    it = it+1\n",
        "  obj_loc = obj(X,p,pi)\n",
        "  return logl, obj_loc   # Return the results"
      ],
      "metadata": {
        "id": "Xux55HYJxVur"
      },
      "execution_count": 57,
      "outputs": []
    },
    {
      "cell_type": "code",
      "source": [
        "def EM_iter(X):  # EM ALgorithm over 100 random inititalizations\n",
        "  log_likelihood = np.zeros(50)  # Array to plot log likelihood function\n",
        "  obj_val = 0\n",
        "  for i in range(100):\n",
        "    logl, obj_loc = EM(X)\n",
        "    log_likelihood = log_likelihood + logl\n",
        "    obj_val += obj_loc\n",
        "  return log_likelihood , obj_val"
      ],
      "metadata": {
        "id": "GmUqXXA70NMi"
      },
      "execution_count": 58,
      "outputs": []
    },
    {
      "cell_type": "code",
      "source": [
        "log_likelihood, obj_val = EM_iter(X)  # Run the Algorithm"
      ],
      "metadata": {
        "id": "A2DzMIsryWOY"
      },
      "execution_count": 59,
      "outputs": []
    },
    {
      "cell_type": "code",
      "source": [
        "log_likelihood /=100\n",
        "plt.plot(log_likelihood)\n",
        "\n",
        "plt.title('Log Likelihood function over 100 random initializations')\n",
        "plt.xlabel('Iterations')\n",
        "plt.ylabel('Log Likelihood')\n",
        "plt.show()"
      ],
      "metadata": {
        "colab": {
          "base_uri": "https://localhost:8080/",
          "height": 472
        },
        "id": "RHAro_T3ydDf",
        "outputId": "53a210c2-1bb7-49fb-9139-a5a0bc780c6b"
      },
      "execution_count": 45,
      "outputs": [
        {
          "output_type": "display_data",
          "data": {
            "text/plain": [
              "<Figure size 640x480 with 1 Axes>"
            ],
            "image/png": "[encoded data removed]"
          },
          "metadata": {}
        }
      ]
    },
    {
      "cell_type": "code",
      "source": [
        "def obj(X,p,pi):  # Objective function\n",
        "  err=0\n",
        "  for k in range(4):\n",
        "    sum=0\n",
        "    for i in range(400):  # calculate the objective function in a probabilistic manner\n",
        "      sum += np.linalg.norm(X[i]-p[k])**2\n",
        "    err += sum*pi[k]\n",
        "  return err"
      ],
      "metadata": {
        "id": "ozkmkKPfCbAu"
      },
      "execution_count": 46,
      "outputs": []
    },
    {
      "cell_type": "code",
      "source": [
        "obj_val /= 100\n",
        "obj_val  # Output the average objective function value over 100 initializations"
      ],
      "metadata": {
        "colab": {
          "base_uri": "https://localhost:8080/"
        },
        "id": "sW_FaZmHdMp7",
        "outputId": "36234834-361f-4e74-c861-b7b8b41a0a8c"
      },
      "execution_count": 61,
      "outputs": [
        {
          "output_type": "execute_result",
          "data": {
            "text/plain": [
              "28.251075877020075"
            ]
          },
          "metadata": {},
          "execution_count": 61
        }
      ]
    },
    {
      "cell_type": "code",
      "source": [],
      "metadata": {
        "id": "8qJmLaXzrjQt"
      },
      "execution_count": null,
      "outputs": []
    }
  ]
}