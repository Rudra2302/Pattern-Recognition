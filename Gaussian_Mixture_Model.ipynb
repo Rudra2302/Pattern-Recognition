{
  "nbformat": 4,
  "nbformat_minor": 0,
  "metadata": {
    "colab": {
      "provenance": []
    },
    "kernelspec": {
      "name": "python3",
      "display_name": "Python 3"
    },
    "language_info": {
      "name": "python"
    }
  },
  "cells": [
    {
      "cell_type": "code",
      "execution_count": 1,
      "metadata": {
        "id": "RXKF_RrhPBDL"
      },
      "outputs": [],
      "source": [
        "import numpy as np\n",
        "import matplotlib.pyplot as plt\n",
        "import math"
      ]
    },
    {
      "cell_type": "code",
      "source": [
        "import pandas as pd\n",
        "df = pd.read_csv('A2Q1.csv', header=None)"
      ],
      "metadata": {
        "id": "7464ehHEPHkX"
      },
      "execution_count": 2,
      "outputs": []
    },
    {
      "cell_type": "code",
      "source": [
        "X = np.array(df)  # Load the data into a numpy array"
      ],
      "metadata": {
        "id": "5VB57Y2UPK6Q"
      },
      "execution_count": 3,
      "outputs": []
    },
    {
      "cell_type": "code",
      "source": [
        "X.shape"
      ],
      "metadata": {
        "colab": {
          "base_uri": "https://localhost:8080/"
        },
        "id": "_KaKiKlMMPGy",
        "outputId": "5d3bb7bf-7b6c-42f8-b5f5-c9ae5a35f3fb"
      },
      "execution_count": 5,
      "outputs": [
        {
          "output_type": "execute_result",
          "data": {
            "text/plain": [
              "(400, 50)"
            ]
          },
          "metadata": {},
          "execution_count": 5
        }
      ]
    },
    {
      "cell_type": "code",
      "source": [
        "def gaussian(x,mu,cov):  # Calculate Gaussian PDF value\n",
        "  if np.linalg.det(cov)==0:\n",
        "      cov += 0.1*np.eye(50)\n",
        "  c = -0.5 * ((x.T - mu.T).T @ np.linalg.inv(cov)) @ (x.T - mu.T)\n",
        "  c = np.exp(c)\n",
        "  c /= np.sqrt((2 * np.pi) ** 50 * np.linalg.det(cov))\n",
        "  return c"
      ],
      "metadata": {
        "id": "LalqVwVQPM0q"
      },
      "execution_count": 21,
      "outputs": []
    },
    {
      "cell_type": "code",
      "source": [
        "def expectation(X, mu, cov, pi):  # Expectation Step\n",
        "  lamda = np.zeros((X.shape[0],4)) # Initialize with zeros\n",
        "  for i in range(X.shape[0]):\n",
        "    sum = 0\n",
        "    for k in range(4):\n",
        "      g = gaussian(X[i],mu[k],cov[k])*pi[k]  # Calculate PDF value\n",
        "      lamda[i][k] = g\n",
        "      sum = sum + g\n",
        "    if sum!=0:\n",
        "      lamda[i] = lamda[i]/sum     # Final results\n",
        "  return lamda"
      ],
      "metadata": {
        "id": "T2Uy07hvRGYg"
      },
      "execution_count": 7,
      "outputs": []
    },
    {
      "cell_type": "code",
      "source": [
        "def maximization(X, lamda):   # Maximization step\n",
        "  pi = np.zeros(4)            # Initialization\n",
        "  mu = np.zeros((4,X.shape[1]))\n",
        "  cov  = np.zeros((4,X.shape[1],X.shape[1]))\n",
        "\n",
        "  for k in range(4):               # Calculate pi\n",
        "    for i in range(X.shape[0]):\n",
        "      pi[k] = pi[k] + lamda[i][k]\n",
        "\n",
        "  for k in range(4):               # calculate mu\n",
        "    for j in range(50):\n",
        "      for i in range(400):\n",
        "        mu[k][j] = mu[k][j] + lamda[i][k]*X[i][j]\n",
        "\n",
        "  for k in range(4):               # Calculate cov\n",
        "    for j in range(400):\n",
        "      cov[k] = cov[k] + ((X[j]-mu[k]).T  @ (X[j]-mu[k]))*lamda[j][k]\n",
        "\n",
        "  for k in range(4):               # Final results\n",
        "    if pi[k] != 0:\n",
        "      mu[k] = mu[k]/pi[k]\n",
        "      cov[k] = cov[k]/pi[k]\n",
        "\n",
        "  pi = pi/400\n",
        "\n",
        "  return pi, mu, cov"
      ],
      "metadata": {
        "id": "sOXSDxzeT9Bi"
      },
      "execution_count": 16,
      "outputs": []
    },
    {
      "cell_type": "code",
      "source": [
        "def log_likelihood(X,pi,mu,cov):  # Calculate log likelihood\n",
        "  sum = 0\n",
        "  for i in range(400):\n",
        "    temp = 0\n",
        "    for k in range(4):\n",
        "      temp = temp+ gaussian(X[i],mu[k],cov[k])*pi[k]\n",
        "    sum = sum + math.log(temp)\n",
        "  return sum"
      ],
      "metadata": {
        "id": "YUjo6F4wGGzg"
      },
      "execution_count": 53,
      "outputs": []
    },
    {
      "cell_type": "code",
      "source": [
        "def error(mu_new, cov_new, pi_new, mu, cov, pi):\n",
        "  # Calculate the error between successive iterations\n",
        "  err = np.linalg.norm(pi_new-pi)**2\n",
        "  for i in range(mu.shape[0]):\n",
        "    for j in range(mu.shape[1]):\n",
        "      err = err + (mu[i][j] - mu_new[i][j])**2\n",
        "      for k in range(cov.shape[2]):\n",
        "        err = err + (cov[i][j][k] - cov_new[i][j][k])**2\n",
        "  return err"
      ],
      "metadata": {
        "id": "MmaImueJ9B2Y"
      },
      "execution_count": 25,
      "outputs": []
    },
    {
      "cell_type": "code",
      "source": [
        "def obj(X, mu, pi):\n",
        "  err=0\n",
        "  for k in range(4):\n",
        "    for i in range(400):\n",
        "      err+=(np.linalg.norm(X[i]-mu[k])**2)*pi[k]\n",
        "  return err"
      ],
      "metadata": {
        "id": "8jKZL9gLkmJi"
      },
      "execution_count": 46,
      "outputs": []
    },
    {
      "cell_type": "code",
      "source": [
        "def EM(X):   # EM algorithm main code\n",
        "  pi = np.random.rand(4)  # Randomize pi and mu\n",
        "  pi = pi/np.sum(pi)\n",
        "  cov = np.empty((4,50,50))\n",
        "  for i in range(4):      # Initialize cov to be invertible\n",
        "    G = np.random.random((50,50))\n",
        "    G = G @ G.T\n",
        "    cov[i] = G\n",
        "  mu = np.random.rand(4,50)\n",
        "  it=0\n",
        "  err = 1\n",
        "  logl=np.array([])       # Array to maintain log likelihood values\n",
        "\n",
        "  while it<50:            # Set constant number of iterations\n",
        "    lamda = expectation(X,mu,cov,pi) # Expectation step\n",
        "    pi_new, mu_new, cov_new = maximization(X,lamda)  # Maximization step\n",
        "    logl = np.append(logl,log_likelihood(X,pi_new,mu_new,cov_new))\n",
        "    err = error(mu_new,cov_new,pi_new,mu,cov,pi)\n",
        "    mu = mu_new                     # Update parameters\n",
        "    pi = pi_new\n",
        "    cov = cov_new\n",
        "    it = it+1                       # Update iterations\n",
        "\n",
        "  return mu, cov, pi, lamda, logl"
      ],
      "metadata": {
        "id": "OrqKOwj9W28g"
      },
      "execution_count": 58,
      "outputs": []
    },
    {
      "cell_type": "code",
      "source": [
        "def EM_iter(X):\n",
        "  log_likelihood = np.zeros(20)\n",
        "  obj_val=0\n",
        "  for i in range(100):\n",
        "    mu, cov, pi, lamda, logl = EM(X)\n",
        "    log_likelihood = log_likelihood + logl\n",
        "    obj_val += obj(X,mu,pi)\n",
        "  return log_likelihood, obj_val"
      ],
      "metadata": {
        "id": "eNkUUw6lWP9I"
      },
      "execution_count": 59,
      "outputs": []
    },
    {
      "cell_type": "code",
      "source": [
        "log_likelihood, obj_val = EM_iter(X)"
      ],
      "metadata": {
        "id": "xZUTtWM9O_pu"
      },
      "execution_count": 55,
      "outputs": []
    },
    {
      "cell_type": "code",
      "source": [
        "log_likelihood /= 100\n",
        "plt.plot(log_likelihood)\n",
        "\n",
        "plt.title('Log Likelihood function over 100 random initializations')\n",
        "plt.xlabel('Iterations')\n",
        "plt.ylabel('Log Likelihood')\n",
        "plt.show()"
      ],
      "metadata": {
        "colab": {
          "base_uri": "https://localhost:8080/",
          "height": 472
        },
        "id": "965yjmkrYVGI",
        "outputId": "fb461525-4bb3-4ee8-dfee-2402ffb70ac4"
      },
      "execution_count": 49,
      "outputs": [
        {
          "output_type": "display_data",
          "data": {
            "text/plain": [
              "<Figure size 640x480 with 1 Axes>"
            ],
            "image/png": "[encoded data removed]"
          },
          "metadata": {}
        }
      ]
    },
    {
      "cell_type": "code",
      "source": [
        "obj_val /=100 # Objective function\n",
        "obj_val"
      ],
      "metadata": {
        "id": "vaO0KQFdGXwH",
        "colab": {
          "base_uri": "https://localhost:8080/"
        },
        "outputId": "afef6cf9-9530-46c8-8048-2eced42e1e29"
      },
      "execution_count": 57,
      "outputs": [
        {
          "output_type": "execute_result",
          "data": {
            "text/plain": [
              "7.089822117560206"
            ]
          },
          "metadata": {},
          "execution_count": 57
        }
      ]
    }
  ]
}